{
 "cells": [
  {
   "cell_type": "markdown",
   "metadata": {
    "collapsed": true,
    "pycharm": {
     "name": "#%% md\n"
    }
   },
   "source": [
    "## Exercícios - Aula 01"
   ]
  },
  {
   "cell_type": "markdown",
   "metadata": {
    "collapsed": false,
    "pycharm": {
     "name": "#%% md\n"
    }
   },
   "source": [
    "1) Escolha um número entre 1 e 10 e armazene ele numa variável chamada *segredo*. Escolha outro número entre 1 e 10 novamente e salve ele numa variável chamada *chute*. Depois, escreva testes condicionais usando *if*, *else* e *elif* para exibir a mensagem \"muito menor\" se *chute* é menor do que *segredo*, \"muito maior\" se *chute* é maior do que *segredo* e \"na mosca\" se *chute* for igual à *segredo*.\n",
    "\n",
    "2) Escreva uma cadeia de instrucões *if*-*elif*-*else* que determine o estágio da vida de uma pessoa. Defina um valor para a variável *idade* e então:\n",
    "- Se a pessoa tiver menos de 2 anos de idade, mostre uma mensagem dizendo que ela ainda é um bebê.\n",
    "- Se a pessoa tiver pelo menos 2 anos, mas menos de 4, mostre uma mensagem dizendo que ela é uma crianca.\n",
    "- Se a pessoa tiver pelo menos 4 anos, mas menos de 13, mostre uma mensagem dizendo que ela é um(a) goroto(a).\n",
    "- Se a pessoa tiver pelo menos 13 anos, mas menos de 20, mostre uma mensagem dizendo que ela é um(a) adolescente.\n",
    "- Se a pessoa tiver pelo menos 20 anos, mas menos de 65, mostre uma mensagem dizendo que ela é um(a) adulto(a).\n",
    "- Se a pessoa tiver 65 anos ou mais, mostre uma mensagem dizendo que ela é uma pessoa idosa.\n",
    "\n",
    "3) Crie uma lista com cinco ou mais nomes de usuários, incluindo o nome \"admin\". Suponha que você esteja escrevendo um código que exibirá uma saudacão a cada usuário depois que eles fizerem login em um site. Percorra a lista com um laco e mostre uma saudacão para cada usuário:\n",
    "- Se o nome do usuário for \"admin\", mostre uma saudacão especial, por exemplo, \"Olá admin, gostaria de ver o relatório de status?\"\n",
    "- Caso contrário, mostre a saudacão genérica, como \"Olá José, obrigado por fazer login novamente\".\n",
    "\n",
    "4) A partir do exercício anterior, modifique o código criado para acrescentar um teste if que verifica se a lista de usuarios está vazia.\n",
    "- Se a lista de usuários estiver vazia, mostre a mensagem \"Precisamos encontrar alguns usuários!\". Remova todos os nomes de usuários da lista e certifique-se de que essa mensagem aparecerá.\n",
    "\n",
    "5) Crie um programa que simule o modo como os sites garantem que todos tenham um nome de usuário único.\n",
    "- Crie uma lista chamada *current_users* com cinco ou mais nomes de usuários\n",
    "- Crie uma list chamada *new_users* com cinco nomes de usuários. Garanta que dois dos novos usuários também estejam na lista *current_users*\n",
    "- Percorra a lista *new_users* com um laco para ver se cada novo nome de usuário já foi usado. Em caso afirmativo, mostre uma mensagem afirmando que a pessoa deverá fornecer um novo nome. Se um usuário não foi usado, apresente uma mensagem dizendo que o nome do usuário está disponível.\n",
    "- Certifique-se de que sua comparacão não levará em conta as diferencas entre letras maiúsculas e minúsculas. Se \"Pedro\" foi usado, \"PEDRO\" não deverá ser aceito.\n",
    "\n",
    "6) Números ordinais indicam sua posicão em uma lista, por exemplo, 1st, 2nd, em inglês. A maioria dos números ordinais nessa língua termina com th, exceto, 1, 2 e 3.\n",
    "- Armazene os números de 1 a 9 em uma lista.\n",
    "- Pecorra essa lista com um laco.\n",
    "- Use uma cadeia de instrucões *if*-*elif*-*else* que exiba a terminacão apropriada para cada número ordinal. Sua saída deverá conter \"1st 2nd 3rd 4th 5th 6th 7th 8th 9th\" e cada resultado deve estar em uma linha separada\n"
   ]
  },
  {
   "cell_type": "code",
   "execution_count": 5,
   "metadata": {},
   "outputs": [
    {
     "name": "stdout",
     "output_type": "stream",
     "text": [
      "muito menor\n"
     ]
    }
   ],
   "source": [
    "# EX 1\n",
    "segredo = 8\n",
    "chute = 2\n",
    "if chute > segredo:\n",
    "    print(\"muito maior\")\n",
    "elif chute < segredo:\n",
    "    print(\"muito menor\")\n",
    "else:\n",
    "    print(\"na mosca\")"
   ]
  },
  {
   "cell_type": "code",
   "execution_count": 11,
   "metadata": {},
   "outputs": [
    {
     "name": "stdout",
     "output_type": "stream",
     "text": [
      "É um adolescente\n"
     ]
    }
   ],
   "source": [
    "# EX 2\n",
    "idade = 15\n",
    "if idade < 2:\n",
    "    print(\"É um bebê\")\n",
    "elif idade < 4:\n",
    "    print (\"É uma criança\")\n",
    "elif idade < 13:\n",
    "    print(\"É um garoto(a)\")\n",
    "elif idade < 20:\n",
    "    print(\"É um adolescente\")\n",
    "elif idade < 65:\n",
    "    print(\"É um adulto\")\n",
    "else:\n",
    "    print(\"É um idoso\")"
   ]
  },
  {
   "cell_type": "code",
   "execution_count": 1,
   "metadata": {},
   "outputs": [
    {
     "name": "stdout",
     "output_type": "stream",
     "text": [
      "olá ana, obrigado por fazer login\n",
      "olá joão, obrigado por fazer login\n",
      "olá admin, gostaria de ver o relatório de status?\n",
      "olá mateus, obrigado por fazer login\n",
      "olá laura, obrigado por fazer login\n",
      "olá josé, obrigado por fazer login\n"
     ]
    }
   ],
   "source": [
    "# EX 3\n",
    "nomes = [\"ana\",\"joão\",\"admin\",\"mateus\",\"laura\",\"josé\"]\n",
    "for nome in nomes:\n",
    "    if nome != \"admin\":\n",
    "        print(\"olá {}, obrigado por fazer login\".format(nome))\n",
    "    else:\n",
    "        print(\"olá {}, gostaria de ver o relatório de status?\".format(nome))"
   ]
  },
  {
   "cell_type": "code",
   "execution_count": 6,
   "metadata": {},
   "outputs": [
    {
     "name": "stdout",
     "output_type": "stream",
     "text": [
      "precisamos de usuários\n"
     ]
    }
   ],
   "source": [
    "# EX 4  \n",
    "nomes = []\n",
    "if not nomes: #ou poderia comparar com uma lista_vazia = []\n",
    "    print(\"precisamos de usuários\")\n",
    "else:\n",
    "    for nome in nomes:\n",
    "        if nome != \"admin\":\n",
    "            print(\"olá {}, obrigado por fazer login\".format(nome))\n",
    "        else:\n",
    "            print(\"olá {}, gostaria de ver o relatório de status?\".format(nome))"
   ]
  },
  {
   "cell_type": "code",
   "execution_count": 22,
   "metadata": {},
   "outputs": [
    {
     "name": "stdout",
     "output_type": "stream",
     "text": [
      "laura - esse usuário já existe, forneça um novo nome de usuário\n",
      "Maria - esse usuário já existe, forneça um novo nome de usuário\n",
      "roberto - esse usuário está disponível\n",
      "José - esse usuário já existe, forneça um novo nome de usuário\n",
      "pedro - esse usuário está disponível\n"
     ]
    }
   ],
   "source": [
    "# EX 5\n",
    "current_users = [\"ana\",\"João\",\"jOsé\",\"mateus\",\"laura\",\"Maria\"]\n",
    "new_users = [\"laura\",\"Maria\",\"roberto\",\"José\",\"pedro\"]\n",
    "\n",
    "a = [users.lower() for users in current_users]\n",
    "for new in new_users:\n",
    "        if new.lower() in a:\n",
    "            print(new,\"- esse usuário já existe, forneça um novo nome de usuário\")\n",
    "        else:\n",
    "            print(new,\"- esse usuário está disponível\")\n",
    "\n"
   ]
  },
  {
   "cell_type": "code",
   "execution_count": 2,
   "metadata": {},
   "outputs": [
    {
     "data": {
      "text/plain": [
       "[1, 2, 3, 4, 5, 6, 7, 8, 9]"
      ]
     },
     "execution_count": 2,
     "metadata": {},
     "output_type": "execute_result"
    }
   ],
   "source": [
    "lista = []\n",
    "i = 1\n",
    "while i < 10:\n",
    "    lista.append(i)\n",
    "    i +=1\n",
    "lista"
   ]
  },
  {
   "cell_type": "code",
   "execution_count": 5,
   "metadata": {},
   "outputs": [
    {
     "name": "stdout",
     "output_type": "stream",
     "text": [
      "1st\n",
      "2nd\n",
      "3rd\n",
      "4th\n",
      "5th\n",
      "6th\n",
      "7th\n",
      "8th\n",
      "9th\n"
     ]
    }
   ],
   "source": [
    "# EX 6\n",
    "for n in lista:\n",
    "    if n == 1:\n",
    "        print(\"{}st\".format(n))\n",
    "    elif n == 2:\n",
    "        print(\"{}nd\".format(n))\n",
    "    elif n == 3:\n",
    "        print(\"{}rd\".format(n))\n",
    "    else:\n",
    "        print(\"{}th\".format(n))"
   ]
  }
 ],
 "metadata": {
  "kernelspec": {
   "display_name": "Python 3",
   "language": "python",
   "name": "python3"
  },
  "language_info": {
   "codemirror_mode": {
    "name": "ipython",
    "version": 3
   },
   "file_extension": ".py",
   "mimetype": "text/x-python",
   "name": "python",
   "nbconvert_exporter": "python",
   "pygments_lexer": "ipython3",
   "version": "3.10.4 (main, Dec 19 2022, 20:24:16) [GCC 9.4.0]"
  },
  "vscode": {
   "interpreter": {
    "hash": "3ad933181bd8a04b432d3370b9dc3b0662ad032c4dfaa4e4f1596c548f763858"
   }
  }
 },
 "nbformat": 4,
 "nbformat_minor": 0
}
